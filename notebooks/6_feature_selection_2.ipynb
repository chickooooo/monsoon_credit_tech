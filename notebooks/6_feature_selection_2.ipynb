{
 "cells": [
  {
   "cell_type": "code",
   "execution_count": 1,
   "metadata": {},
   "outputs": [],
   "source": [
    "import pandas as pd\n",
    "import numpy as np\n",
    "from matplotlib import pyplot as plt\n",
    "import seaborn as sns\n",
    "\n",
    "sns.set(color_codes=True)"
   ]
  },
  {
   "cell_type": "code",
   "execution_count": 2,
   "metadata": {},
   "outputs": [],
   "source": [
    "from sklearn.model_selection import cross_val_score\n",
    "from sklearn.metrics import roc_auc_score"
   ]
  },
  {
   "cell_type": "code",
   "execution_count": 3,
   "metadata": {},
   "outputs": [],
   "source": [
    "from lightgbm import LGBMClassifier"
   ]
  },
  {
   "attachments": {},
   "cell_type": "markdown",
   "metadata": {},
   "source": [
    "<br>\n",
    "<br>\n",
    "<br>"
   ]
  },
  {
   "attachments": {},
   "cell_type": "markdown",
   "metadata": {},
   "source": [
    "### Data Collection"
   ]
  },
  {
   "cell_type": "code",
   "execution_count": 4,
   "metadata": {},
   "outputs": [
    {
     "data": {
      "text/html": [
       "<div>\n",
       "<style scoped>\n",
       "    .dataframe tbody tr th:only-of-type {\n",
       "        vertical-align: middle;\n",
       "    }\n",
       "\n",
       "    .dataframe tbody tr th {\n",
       "        vertical-align: top;\n",
       "    }\n",
       "\n",
       "    .dataframe thead th {\n",
       "        text-align: right;\n",
       "    }\n",
       "</style>\n",
       "<table border=\"1\" class=\"dataframe\">\n",
       "  <thead>\n",
       "    <tr style=\"text-align: right;\">\n",
       "      <th></th>\n",
       "      <th>C6</th>\n",
       "      <th>C8</th>\n",
       "      <th>C1_1</th>\n",
       "      <th>C1_2</th>\n",
       "      <th>C1_3</th>\n",
       "      <th>C2_0</th>\n",
       "      <th>C2_1</th>\n",
       "      <th>C2_2</th>\n",
       "      <th>C2_3</th>\n",
       "      <th>C2_4</th>\n",
       "      <th>...</th>\n",
       "      <th>N17</th>\n",
       "      <th>N18</th>\n",
       "      <th>N19</th>\n",
       "      <th>N21</th>\n",
       "      <th>N22</th>\n",
       "      <th>N23</th>\n",
       "      <th>N24</th>\n",
       "      <th>N33</th>\n",
       "      <th>N35</th>\n",
       "      <th>Dependent_Variable</th>\n",
       "    </tr>\n",
       "  </thead>\n",
       "  <tbody>\n",
       "    <tr>\n",
       "      <th>0</th>\n",
       "      <td>0</td>\n",
       "      <td>1</td>\n",
       "      <td>1</td>\n",
       "      <td>0</td>\n",
       "      <td>0</td>\n",
       "      <td>0</td>\n",
       "      <td>1</td>\n",
       "      <td>0</td>\n",
       "      <td>0</td>\n",
       "      <td>0</td>\n",
       "      <td>...</td>\n",
       "      <td>0.026969</td>\n",
       "      <td>0.735849</td>\n",
       "      <td>-1.075934</td>\n",
       "      <td>-0.85</td>\n",
       "      <td>-1.0</td>\n",
       "      <td>0.6875</td>\n",
       "      <td>-0.317073</td>\n",
       "      <td>-0.471698</td>\n",
       "      <td>-0.333333</td>\n",
       "      <td>0</td>\n",
       "    </tr>\n",
       "    <tr>\n",
       "      <th>1</th>\n",
       "      <td>0</td>\n",
       "      <td>1</td>\n",
       "      <td>0</td>\n",
       "      <td>1</td>\n",
       "      <td>0</td>\n",
       "      <td>0</td>\n",
       "      <td>0</td>\n",
       "      <td>0</td>\n",
       "      <td>1</td>\n",
       "      <td>0</td>\n",
       "      <td>...</td>\n",
       "      <td>-4.699231</td>\n",
       "      <td>-1.056604</td>\n",
       "      <td>-0.473452</td>\n",
       "      <td>0.40</td>\n",
       "      <td>-1.0</td>\n",
       "      <td>-0.2500</td>\n",
       "      <td>-0.731707</td>\n",
       "      <td>1.037736</td>\n",
       "      <td>-1.555556</td>\n",
       "      <td>1</td>\n",
       "    </tr>\n",
       "    <tr>\n",
       "      <th>2</th>\n",
       "      <td>0</td>\n",
       "      <td>1</td>\n",
       "      <td>1</td>\n",
       "      <td>0</td>\n",
       "      <td>0</td>\n",
       "      <td>1</td>\n",
       "      <td>0</td>\n",
       "      <td>0</td>\n",
       "      <td>0</td>\n",
       "      <td>0</td>\n",
       "      <td>...</td>\n",
       "      <td>0.000000</td>\n",
       "      <td>0.000000</td>\n",
       "      <td>0.000000</td>\n",
       "      <td>0.00</td>\n",
       "      <td>0.0</td>\n",
       "      <td>-0.4375</td>\n",
       "      <td>-0.780488</td>\n",
       "      <td>-0.452830</td>\n",
       "      <td>-0.444444</td>\n",
       "      <td>1</td>\n",
       "    </tr>\n",
       "  </tbody>\n",
       "</table>\n",
       "<p>3 rows × 62 columns</p>\n",
       "</div>"
      ],
      "text/plain": [
       "   C6  C8  C1_1  C1_2  C1_3  C2_0  C2_1  C2_2  C2_3  C2_4  ...       N17  \\\n",
       "0   0   1     1     0     0     0     1     0     0     0  ...  0.026969   \n",
       "1   0   1     0     1     0     0     0     0     1     0  ... -4.699231   \n",
       "2   0   1     1     0     0     1     0     0     0     0  ...  0.000000   \n",
       "\n",
       "        N18       N19   N21  N22     N23       N24       N33       N35  \\\n",
       "0  0.735849 -1.075934 -0.85 -1.0  0.6875 -0.317073 -0.471698 -0.333333   \n",
       "1 -1.056604 -0.473452  0.40 -1.0 -0.2500 -0.731707  1.037736 -1.555556   \n",
       "2  0.000000  0.000000  0.00  0.0 -0.4375 -0.780488 -0.452830 -0.444444   \n",
       "\n",
       "   Dependent_Variable  \n",
       "0                   0  \n",
       "1                   1  \n",
       "2                   1  \n",
       "\n",
       "[3 rows x 62 columns]"
      ]
     },
     "execution_count": 4,
     "metadata": {},
     "output_type": "execute_result"
    }
   ],
   "source": [
    "# loading preprocessed data\n",
    "data = pd.read_csv(\"../pipeline_data/5_train_preprocessed.csv\")\n",
    "data.head(3)"
   ]
  },
  {
   "cell_type": "code",
   "execution_count": 5,
   "metadata": {},
   "outputs": [
    {
     "data": {
      "text/html": [
       "<div>\n",
       "<style scoped>\n",
       "    .dataframe tbody tr th:only-of-type {\n",
       "        vertical-align: middle;\n",
       "    }\n",
       "\n",
       "    .dataframe tbody tr th {\n",
       "        vertical-align: top;\n",
       "    }\n",
       "\n",
       "    .dataframe thead th {\n",
       "        text-align: right;\n",
       "    }\n",
       "</style>\n",
       "<table border=\"1\" class=\"dataframe\">\n",
       "  <thead>\n",
       "    <tr style=\"text-align: right;\">\n",
       "      <th></th>\n",
       "      <th>C6</th>\n",
       "      <th>C8</th>\n",
       "      <th>C1_1</th>\n",
       "      <th>C1_2</th>\n",
       "      <th>C1_3</th>\n",
       "      <th>C2_0</th>\n",
       "      <th>C2_1</th>\n",
       "      <th>C2_2</th>\n",
       "      <th>C2_3</th>\n",
       "      <th>C2_4</th>\n",
       "      <th>...</th>\n",
       "      <th>N16</th>\n",
       "      <th>N17</th>\n",
       "      <th>N18</th>\n",
       "      <th>N19</th>\n",
       "      <th>N21</th>\n",
       "      <th>N22</th>\n",
       "      <th>N23</th>\n",
       "      <th>N24</th>\n",
       "      <th>N33</th>\n",
       "      <th>N35</th>\n",
       "    </tr>\n",
       "  </thead>\n",
       "  <tbody>\n",
       "    <tr>\n",
       "      <th>0</th>\n",
       "      <td>0</td>\n",
       "      <td>1</td>\n",
       "      <td>1</td>\n",
       "      <td>0</td>\n",
       "      <td>0</td>\n",
       "      <td>0</td>\n",
       "      <td>1</td>\n",
       "      <td>0</td>\n",
       "      <td>0</td>\n",
       "      <td>0</td>\n",
       "      <td>...</td>\n",
       "      <td>0.0</td>\n",
       "      <td>0.026969</td>\n",
       "      <td>0.735849</td>\n",
       "      <td>-1.075934</td>\n",
       "      <td>-0.85</td>\n",
       "      <td>-1.0</td>\n",
       "      <td>0.6875</td>\n",
       "      <td>-0.317073</td>\n",
       "      <td>-0.471698</td>\n",
       "      <td>-0.333333</td>\n",
       "    </tr>\n",
       "    <tr>\n",
       "      <th>1</th>\n",
       "      <td>0</td>\n",
       "      <td>1</td>\n",
       "      <td>0</td>\n",
       "      <td>1</td>\n",
       "      <td>0</td>\n",
       "      <td>0</td>\n",
       "      <td>0</td>\n",
       "      <td>0</td>\n",
       "      <td>1</td>\n",
       "      <td>0</td>\n",
       "      <td>...</td>\n",
       "      <td>0.0</td>\n",
       "      <td>-4.699231</td>\n",
       "      <td>-1.056604</td>\n",
       "      <td>-0.473452</td>\n",
       "      <td>0.40</td>\n",
       "      <td>-1.0</td>\n",
       "      <td>-0.2500</td>\n",
       "      <td>-0.731707</td>\n",
       "      <td>1.037736</td>\n",
       "      <td>-1.555556</td>\n",
       "    </tr>\n",
       "    <tr>\n",
       "      <th>2</th>\n",
       "      <td>0</td>\n",
       "      <td>1</td>\n",
       "      <td>1</td>\n",
       "      <td>0</td>\n",
       "      <td>0</td>\n",
       "      <td>1</td>\n",
       "      <td>0</td>\n",
       "      <td>0</td>\n",
       "      <td>0</td>\n",
       "      <td>0</td>\n",
       "      <td>...</td>\n",
       "      <td>0.0</td>\n",
       "      <td>0.000000</td>\n",
       "      <td>0.000000</td>\n",
       "      <td>0.000000</td>\n",
       "      <td>0.00</td>\n",
       "      <td>0.0</td>\n",
       "      <td>-0.4375</td>\n",
       "      <td>-0.780488</td>\n",
       "      <td>-0.452830</td>\n",
       "      <td>-0.444444</td>\n",
       "    </tr>\n",
       "  </tbody>\n",
       "</table>\n",
       "<p>3 rows × 61 columns</p>\n",
       "</div>"
      ],
      "text/plain": [
       "   C6  C8  C1_1  C1_2  C1_3  C2_0  C2_1  C2_2  C2_3  C2_4  ...  N16       N17  \\\n",
       "0   0   1     1     0     0     0     1     0     0     0  ...  0.0  0.026969   \n",
       "1   0   1     0     1     0     0     0     0     1     0  ...  0.0 -4.699231   \n",
       "2   0   1     1     0     0     1     0     0     0     0  ...  0.0  0.000000   \n",
       "\n",
       "        N18       N19   N21  N22     N23       N24       N33       N35  \n",
       "0  0.735849 -1.075934 -0.85 -1.0  0.6875 -0.317073 -0.471698 -0.333333  \n",
       "1 -1.056604 -0.473452  0.40 -1.0 -0.2500 -0.731707  1.037736 -1.555556  \n",
       "2  0.000000  0.000000  0.00  0.0 -0.4375 -0.780488 -0.452830 -0.444444  \n",
       "\n",
       "[3 rows x 61 columns]"
      ]
     },
     "execution_count": 5,
     "metadata": {},
     "output_type": "execute_result"
    }
   ],
   "source": [
    "# seperating features\n",
    "X = data.drop(['Dependent_Variable'], axis=1)\n",
    "X.head(3)"
   ]
  },
  {
   "cell_type": "code",
   "execution_count": 6,
   "metadata": {},
   "outputs": [
    {
     "data": {
      "text/plain": [
       "Index(['C6', 'C8', 'C1_1', 'C1_2', 'C1_3', 'C2_0', 'C2_1', 'C2_2', 'C2_3',\n",
       "       'C2_4', 'C2_6', 'C2_7', 'C2_999', 'C3_0', 'C3_1', 'C3_19', 'C3_2',\n",
       "       'C3_3', 'C3_5', 'C3_7', 'C3_999', 'C4_0', 'C4_1', 'C4_12', 'C4_31',\n",
       "       'C4_41', 'C4_999', 'C5_0', 'C5_1', 'C5_2', 'C5_4', 'C5_999', 'C7_0',\n",
       "       'C7_1', 'C7_2', 'C7_4', 'C7_6', 'C7_999', 'N1', 'N2', 'N3', 'N4', 'N7',\n",
       "       'N8', 'N9', 'N10', 'N10.1', 'N11', 'N12', 'N14', 'N15', 'N16', 'N17',\n",
       "       'N18', 'N19', 'N21', 'N22', 'N23', 'N24', 'N33', 'N35'],\n",
       "      dtype='object')"
      ]
     },
     "execution_count": 6,
     "metadata": {},
     "output_type": "execute_result"
    }
   ],
   "source": [
    "X.columns"
   ]
  },
  {
   "cell_type": "code",
   "execution_count": 7,
   "metadata": {},
   "outputs": [
    {
     "data": {
      "text/html": [
       "<div>\n",
       "<style scoped>\n",
       "    .dataframe tbody tr th:only-of-type {\n",
       "        vertical-align: middle;\n",
       "    }\n",
       "\n",
       "    .dataframe tbody tr th {\n",
       "        vertical-align: top;\n",
       "    }\n",
       "\n",
       "    .dataframe thead th {\n",
       "        text-align: right;\n",
       "    }\n",
       "</style>\n",
       "<table border=\"1\" class=\"dataframe\">\n",
       "  <thead>\n",
       "    <tr style=\"text-align: right;\">\n",
       "      <th></th>\n",
       "      <th>Dependent_Variable</th>\n",
       "    </tr>\n",
       "  </thead>\n",
       "  <tbody>\n",
       "    <tr>\n",
       "      <th>0</th>\n",
       "      <td>0</td>\n",
       "    </tr>\n",
       "    <tr>\n",
       "      <th>1</th>\n",
       "      <td>1</td>\n",
       "    </tr>\n",
       "    <tr>\n",
       "      <th>2</th>\n",
       "      <td>1</td>\n",
       "    </tr>\n",
       "  </tbody>\n",
       "</table>\n",
       "</div>"
      ],
      "text/plain": [
       "   Dependent_Variable\n",
       "0                   0\n",
       "1                   1\n",
       "2                   1"
      ]
     },
     "execution_count": 7,
     "metadata": {},
     "output_type": "execute_result"
    }
   ],
   "source": [
    "# seperating target\n",
    "y = data[['Dependent_Variable']]\n",
    "y.head(3)"
   ]
  },
  {
   "attachments": {},
   "cell_type": "markdown",
   "metadata": {},
   "source": [
    "<br>\n",
    "<br>\n",
    "<br>"
   ]
  },
  {
   "attachments": {},
   "cell_type": "markdown",
   "metadata": {},
   "source": [
    "### Recursive Feature Elimination"
   ]
  },
  {
   "cell_type": "code",
   "execution_count": 8,
   "metadata": {},
   "outputs": [],
   "source": [
    "# will hold scores\n",
    "train_scores = []\n",
    "cross_val_scores = []"
   ]
  },
  {
   "cell_type": "code",
   "execution_count": 9,
   "metadata": {},
   "outputs": [],
   "source": [
    "# params for LGBM\n",
    "best_params = {\n",
    "    'n_estimators': 400,\n",
    "    'learning_rate': 0.10212499331506983,\n",
    "    'num_leaves': 1160,\n",
    "    'max_depth': 8,\n",
    "    'min_data_in_leaf': 200,\n",
    "    'lambda_l1': 0,\n",
    "    'lambda_l2': 15,\n",
    "    'min_gain_to_split': 7.151260846950484,\n",
    "    'bagging_fraction': 0.7,\n",
    "    'bagging_freq': 1,\n",
    "    'feature_fraction': 0.5\n",
    "}"
   ]
  },
  {
   "cell_type": "code",
   "execution_count": null,
   "metadata": {},
   "outputs": [],
   "source": [
    "# initital list of features\n",
    "feature_list = list(X.columns)\n",
    "\n",
    "while len(feature_list) > 1:\n",
    "    # training model\n",
    "    clf = LGBMClassifier(**best_params, random_state=42)\n",
    "    clf.fit(X[feature_list], np.ravel(y))\n",
    "\n",
    "    # training score\n",
    "    predictions = clf.predict_proba(X[feature_list])[:, 1]\n",
    "    train_score = roc_auc_score(np.ravel(y), predictions)\n",
    "\n",
    "    # cross val score\n",
    "    scores = cross_val_score(LGBMClassifier(**best_params, random_state=42), X=X[feature_list], y=np.ravel(y), scoring='roc_auc', cv=10, n_jobs=-1)\n",
    "    val_score = scores.mean()\n",
    "\n",
    "    # adding scores to list\n",
    "    train_scores.append(train_score)\n",
    "    cross_val_scores.append(val_score)\n",
    "\n",
    "    # removing 1 least important feature\n",
    "    imp_series = pd.Series(clf.feature_importances_, index=X[feature_list].columns).sort_values()\n",
    "    eliminated_feature = imp_series.index[0]\n",
    "    feature_list.remove(eliminated_feature)\n",
    "\n",
    "    print(f\"eliminated feature: {imp_series.index[0]} ({imp_series[0]})\")"
   ]
  },
  {
   "cell_type": "code",
   "execution_count": 11,
   "metadata": {},
   "outputs": [
    {
     "name": "stdout",
     "output_type": "stream",
     "text": [
      "60\n",
      "60\n"
     ]
    }
   ],
   "source": [
    "print(len(train_scores))\n",
    "print(len(cross_val_scores))"
   ]
  },
  {
   "cell_type": "code",
   "execution_count": 15,
   "metadata": {},
   "outputs": [
    {
     "data": {
      "image/png": "[encoded data removed]",
      "text/plain": [
       "<Figure size 640x480 with 1 Axes>"
      ]
     },
     "metadata": {},
     "output_type": "display_data"
    }
   ],
   "source": [
    "# plotting curve\n",
    "\n",
    "sns.lineplot(x=range(61, 1, -1), y=train_scores, label='train score')\n",
    "sns.lineplot(x=range(61, 1, -1), y=cross_val_scores, label='cross val score')\n",
    "plt.axvline(x=29, color='green', linestyle='--', label='ideal features')\n",
    "plt.legend()\n",
    "plt.title('Recursive feature elimination')\n",
    "plt.ylabel('roc-auc score')\n",
    "plt.xlabel('no. of features')\n",
    "plt.show()"
   ]
  },
  {
   "attachments": {},
   "cell_type": "markdown",
   "metadata": {},
   "source": [
    "29 seems to be ideal number of features, as the cross_val_score<br>\n",
    "started dropping after that"
   ]
  },
  {
   "attachments": {},
   "cell_type": "markdown",
   "metadata": {},
   "source": [
    "The gap between training score and cross val score is reduced\n",
    "during hyperparameter tunning"
   ]
  },
  {
   "attachments": {},
   "cell_type": "markdown",
   "metadata": {},
   "source": [
    "<br>\n",
    "<br>\n",
    "<br>"
   ]
  },
  {
   "cell_type": "markdown",
   "metadata": {},
   "source": [
    "### Feature Selection"
   ]
  },
  {
   "cell_type": "markdown",
   "metadata": {},
   "source": [
    "Feature selection using Recursive Feature Elimination technique"
   ]
  },
  {
   "cell_type": "code",
   "execution_count": 23,
   "metadata": {},
   "outputs": [],
   "source": [
    "# excluded features after RFE\n",
    "features_to_exclude = ['C3_3', 'C2_6', 'C3_2', 'C3_5', 'C2_999', 'C7_1', 'N21', 'C2_1', 'N2',\n",
    "       'N14', 'C8', 'C2_7', 'C4_0', 'C7_999', 'C2_4', 'C7_6', 'C3_7', 'C2_2',\n",
    "       'N16', 'C5_0', 'C4_12', 'C1_1', 'C3_1', 'C5_2', 'C7_2', 'C3_19',\n",
    "       'C5_999', 'C4_999', 'C3_999', 'C7_0', 'C7_4', 'C4_31']\n",
    "\n",
    "data.drop(features_to_exclude, axis=1, inplace=True)\n",
    "X = data.drop(['Dependent_Variable'], axis=1)"
   ]
  },
  {
   "cell_type": "code",
   "execution_count": 24,
   "metadata": {},
   "outputs": [
    {
     "data": {
      "text/plain": [
       "(28050, 29)"
      ]
     },
     "execution_count": 24,
     "metadata": {},
     "output_type": "execute_result"
    }
   ],
   "source": [
    "X.shape"
   ]
  },
  {
   "cell_type": "markdown",
   "metadata": {},
   "source": [
    "<br>\n",
    "<br>\n",
    "<br>"
   ]
  },
  {
   "cell_type": "markdown",
   "metadata": {},
   "source": [
    "### LightGBM"
   ]
  },
  {
   "attachments": {},
   "cell_type": "markdown",
   "metadata": {},
   "source": [
    "LightGBM was choosed for RFE because:\n",
    "- It is the most optimised tree based algorithm\n",
    "- It is fast & effecient. Hence, provide quick RFE\n",
    "- It performed better than other algorithms when tested on our data"
   ]
  },
  {
   "cell_type": "markdown",
   "metadata": {},
   "source": [
    "<br>"
   ]
  },
  {
   "cell_type": "code",
   "execution_count": 25,
   "metadata": {},
   "outputs": [],
   "source": [
    "clf = LGBMClassifier(**best_params, random_state=42)"
   ]
  },
  {
   "cell_type": "code",
   "execution_count": 26,
   "metadata": {},
   "outputs": [
    {
     "name": "stdout",
     "output_type": "stream",
     "text": [
      "[LightGBM] [Warning] feature_fraction is set=0.5, colsample_bytree=1.0 will be ignored. Current value: feature_fraction=0.5\n",
      "[LightGBM] [Warning] min_data_in_leaf is set=200, min_child_samples=20 will be ignored. Current value: min_data_in_leaf=200\n",
      "[LightGBM] [Warning] min_gain_to_split is set=7.151260846950484, min_split_gain=0.0 will be ignored. Current value: min_gain_to_split=7.151260846950484\n",
      "[LightGBM] [Warning] bagging_fraction is set=0.7, subsample=1.0 will be ignored. Current value: bagging_fraction=0.7\n",
      "[LightGBM] [Warning] lambda_l1 is set=0, reg_alpha=0.0 will be ignored. Current value: lambda_l1=0\n",
      "[LightGBM] [Warning] lambda_l2 is set=15, reg_lambda=0.0 will be ignored. Current value: lambda_l2=15\n",
      "[LightGBM] [Warning] bagging_freq is set=1, subsample_freq=0 will be ignored. Current value: bagging_freq=1\n"
     ]
    },
    {
     "data": {
      "text/html": [
       "<style>#sk-container-id-2 {color: black;background-color: white;}#sk-container-id-2 pre{padding: 0;}#sk-container-id-2 div.sk-toggleable {background-color: white;}#sk-container-id-2 label.sk-toggleable__label {cursor: pointer;display: block;width: 100%;margin-bottom: 0;padding: 0.3em;box-sizing: border-box;text-align: center;}#sk-container-id-2 label.sk-toggleable__label-arrow:before {content: \"▸\";float: left;margin-right: 0.25em;color: #696969;}#sk-container-id-2 label.sk-toggleable__label-arrow:hover:before {color: black;}#sk-container-id-2 div.sk-estimator:hover label.sk-toggleable__label-arrow:before {color: black;}#sk-container-id-2 div.sk-toggleable__content {max-height: 0;max-width: 0;overflow: hidden;text-align: left;background-color: #f0f8ff;}#sk-container-id-2 div.sk-toggleable__content pre {margin: 0.2em;color: black;border-radius: 0.25em;background-color: #f0f8ff;}#sk-container-id-2 input.sk-toggleable__control:checked~div.sk-toggleable__content {max-height: 200px;max-width: 100%;overflow: auto;}#sk-container-id-2 input.sk-toggleable__control:checked~label.sk-toggleable__label-arrow:before {content: \"▾\";}#sk-container-id-2 div.sk-estimator input.sk-toggleable__control:checked~label.sk-toggleable__label {background-color: #d4ebff;}#sk-container-id-2 div.sk-label input.sk-toggleable__control:checked~label.sk-toggleable__label {background-color: #d4ebff;}#sk-container-id-2 input.sk-hidden--visually {border: 0;clip: rect(1px 1px 1px 1px);clip: rect(1px, 1px, 1px, 1px);height: 1px;margin: -1px;overflow: hidden;padding: 0;position: absolute;width: 1px;}#sk-container-id-2 div.sk-estimator {font-family: monospace;background-color: #f0f8ff;border: 1px dotted black;border-radius: 0.25em;box-sizing: border-box;margin-bottom: 0.5em;}#sk-container-id-2 div.sk-estimator:hover {background-color: #d4ebff;}#sk-container-id-2 div.sk-parallel-item::after {content: \"\";width: 100%;border-bottom: 1px solid gray;flex-grow: 1;}#sk-container-id-2 div.sk-label:hover label.sk-toggleable__label {background-color: #d4ebff;}#sk-container-id-2 div.sk-serial::before {content: \"\";position: absolute;border-left: 1px solid gray;box-sizing: border-box;top: 0;bottom: 0;left: 50%;z-index: 0;}#sk-container-id-2 div.sk-serial {display: flex;flex-direction: column;align-items: center;background-color: white;padding-right: 0.2em;padding-left: 0.2em;position: relative;}#sk-container-id-2 div.sk-item {position: relative;z-index: 1;}#sk-container-id-2 div.sk-parallel {display: flex;align-items: stretch;justify-content: center;background-color: white;position: relative;}#sk-container-id-2 div.sk-item::before, #sk-container-id-2 div.sk-parallel-item::before {content: \"\";position: absolute;border-left: 1px solid gray;box-sizing: border-box;top: 0;bottom: 0;left: 50%;z-index: -1;}#sk-container-id-2 div.sk-parallel-item {display: flex;flex-direction: column;z-index: 1;position: relative;background-color: white;}#sk-container-id-2 div.sk-parallel-item:first-child::after {align-self: flex-end;width: 50%;}#sk-container-id-2 div.sk-parallel-item:last-child::after {align-self: flex-start;width: 50%;}#sk-container-id-2 div.sk-parallel-item:only-child::after {width: 0;}#sk-container-id-2 div.sk-dashed-wrapped {border: 1px dashed gray;margin: 0 0.4em 0.5em 0.4em;box-sizing: border-box;padding-bottom: 0.4em;background-color: white;}#sk-container-id-2 div.sk-label label {font-family: monospace;font-weight: bold;display: inline-block;line-height: 1.2em;}#sk-container-id-2 div.sk-label-container {text-align: center;}#sk-container-id-2 div.sk-container {/* jupyter's `normalize.less` sets `[hidden] { display: none; }` but bootstrap.min.css set `[hidden] { display: none !important; }` so we also need the `!important` here to be able to override the default hidden behavior on the sphinx rendered scikit-learn.org. See: https://github.com/scikit-learn/scikit-learn/issues/21755 */display: inline-block !important;position: relative;}#sk-container-id-2 div.sk-text-repr-fallback {display: none;}</style><div id=\"sk-container-id-2\" class=\"sk-top-container\"><div class=\"sk-text-repr-fallback\"><pre>LGBMClassifier(bagging_fraction=0.7, bagging_freq=1, feature_fraction=0.5,\n",
       "               lambda_l1=0, lambda_l2=15, learning_rate=0.10212499331506983,\n",
       "               max_depth=8, min_data_in_leaf=200,\n",
       "               min_gain_to_split=7.151260846950484, n_estimators=400,\n",
       "               num_leaves=1160, random_state=42)</pre><b>In a Jupyter environment, please rerun this cell to show the HTML representation or trust the notebook. <br />On GitHub, the HTML representation is unable to render, please try loading this page with nbviewer.org.</b></div><div class=\"sk-container\" hidden><div class=\"sk-item\"><div class=\"sk-estimator sk-toggleable\"><input class=\"sk-toggleable__control sk-hidden--visually\" id=\"sk-estimator-id-2\" type=\"checkbox\" checked><label for=\"sk-estimator-id-2\" class=\"sk-toggleable__label sk-toggleable__label-arrow\">LGBMClassifier</label><div class=\"sk-toggleable__content\"><pre>LGBMClassifier(bagging_fraction=0.7, bagging_freq=1, feature_fraction=0.5,\n",
       "               lambda_l1=0, lambda_l2=15, learning_rate=0.10212499331506983,\n",
       "               max_depth=8, min_data_in_leaf=200,\n",
       "               min_gain_to_split=7.151260846950484, n_estimators=400,\n",
       "               num_leaves=1160, random_state=42)</pre></div></div></div></div></div>"
      ],
      "text/plain": [
       "LGBMClassifier(bagging_fraction=0.7, bagging_freq=1, feature_fraction=0.5,\n",
       "               lambda_l1=0, lambda_l2=15, learning_rate=0.10212499331506983,\n",
       "               max_depth=8, min_data_in_leaf=200,\n",
       "               min_gain_to_split=7.151260846950484, n_estimators=400,\n",
       "               num_leaves=1160, random_state=42)"
      ]
     },
     "execution_count": 26,
     "metadata": {},
     "output_type": "execute_result"
    }
   ],
   "source": [
    "clf.fit(X, np.ravel(y))"
   ]
  },
  {
   "cell_type": "code",
   "execution_count": 27,
   "metadata": {},
   "outputs": [
    {
     "data": {
      "text/plain": [
       "0.7763878688086334"
      ]
     },
     "execution_count": 27,
     "metadata": {},
     "output_type": "execute_result"
    }
   ],
   "source": [
    "# score on training data\n",
    "predictions = clf.predict_proba(X)[:, 1]\n",
    "roc_auc_score(np.ravel(y), predictions)"
   ]
  },
  {
   "cell_type": "code",
   "execution_count": 28,
   "metadata": {},
   "outputs": [
    {
     "data": {
      "text/plain": [
       "0.7601210575763395"
      ]
     },
     "execution_count": 28,
     "metadata": {},
     "output_type": "execute_result"
    }
   ],
   "source": [
    "# cross validation score\n",
    "scores = cross_val_score(clf, X=X, y=np.ravel(y), scoring='roc_auc', cv=10, n_jobs=-1)\n",
    "scores.mean()"
   ]
  },
  {
   "cell_type": "code",
   "execution_count": 30,
   "metadata": {},
   "outputs": [
    {
     "data": {
      "text/plain": [
       "N33      115\n",
       "N1        80\n",
       "N24       55\n",
       "N3        55\n",
       "N11       45\n",
       "N23       40\n",
       "N10.1     36\n",
       "N10       35\n",
       "N22       34\n",
       "C3_0      31\n",
       "dtype: int32"
      ]
     },
     "execution_count": 30,
     "metadata": {},
     "output_type": "execute_result"
    }
   ],
   "source": [
    "# feature importance\n",
    "pd.Series(clf.feature_importances_, index=X.columns).sort_values(ascending=False)[:10]"
   ]
  },
  {
   "cell_type": "code",
   "execution_count": 22,
   "metadata": {},
   "outputs": [
    {
     "data": {
      "text/plain": [
       "Index(['C3_3', 'C2_6', 'C3_2', 'C3_5', 'C2_999', 'C7_1', 'N21', 'C2_1', 'N2',\n",
       "       'N14', 'C8', 'C2_7', 'C4_0', 'C7_999', 'C2_4', 'C7_6', 'C3_7', 'C2_2',\n",
       "       'N16', 'C5_0', 'C4_12', 'C1_1', 'C3_1', 'C5_2', 'C7_2', 'C3_19',\n",
       "       'C5_999', 'C4_999', 'C3_999', 'C7_0', 'C7_4', 'C4_31'],\n",
       "      dtype='object')"
      ]
     },
     "execution_count": 22,
     "metadata": {},
     "output_type": "execute_result"
    }
   ],
   "source": [
    "# pd.Series(clf.feature_importances_, index=X.columns).sort_values(ascending=False).index[-32:]"
   ]
  },
  {
   "cell_type": "markdown",
   "metadata": {},
   "source": [
    "<br>\n",
    "<br>\n",
    "<br>"
   ]
  },
  {
   "cell_type": "code",
   "execution_count": 31,
   "metadata": {},
   "outputs": [
    {
     "data": {
      "text/html": [
       "<div>\n",
       "<style scoped>\n",
       "    .dataframe tbody tr th:only-of-type {\n",
       "        vertical-align: middle;\n",
       "    }\n",
       "\n",
       "    .dataframe tbody tr th {\n",
       "        vertical-align: top;\n",
       "    }\n",
       "\n",
       "    .dataframe thead th {\n",
       "        text-align: right;\n",
       "    }\n",
       "</style>\n",
       "<table border=\"1\" class=\"dataframe\">\n",
       "  <thead>\n",
       "    <tr style=\"text-align: right;\">\n",
       "      <th></th>\n",
       "      <th>C6</th>\n",
       "      <th>C1_2</th>\n",
       "      <th>C1_3</th>\n",
       "      <th>C2_0</th>\n",
       "      <th>C2_3</th>\n",
       "      <th>C3_0</th>\n",
       "      <th>C4_1</th>\n",
       "      <th>C4_41</th>\n",
       "      <th>C5_1</th>\n",
       "      <th>C5_4</th>\n",
       "      <th>...</th>\n",
       "      <th>N15</th>\n",
       "      <th>N17</th>\n",
       "      <th>N18</th>\n",
       "      <th>N19</th>\n",
       "      <th>N22</th>\n",
       "      <th>N23</th>\n",
       "      <th>N24</th>\n",
       "      <th>N33</th>\n",
       "      <th>N35</th>\n",
       "      <th>Dependent_Variable</th>\n",
       "    </tr>\n",
       "  </thead>\n",
       "  <tbody>\n",
       "    <tr>\n",
       "      <th>0</th>\n",
       "      <td>0</td>\n",
       "      <td>0</td>\n",
       "      <td>0</td>\n",
       "      <td>0</td>\n",
       "      <td>0</td>\n",
       "      <td>0</td>\n",
       "      <td>1</td>\n",
       "      <td>0</td>\n",
       "      <td>1</td>\n",
       "      <td>0</td>\n",
       "      <td>...</td>\n",
       "      <td>0.0</td>\n",
       "      <td>0.026969</td>\n",
       "      <td>0.735849</td>\n",
       "      <td>-1.075934</td>\n",
       "      <td>-1.0</td>\n",
       "      <td>0.6875</td>\n",
       "      <td>-0.317073</td>\n",
       "      <td>-0.471698</td>\n",
       "      <td>-0.333333</td>\n",
       "      <td>0</td>\n",
       "    </tr>\n",
       "    <tr>\n",
       "      <th>1</th>\n",
       "      <td>0</td>\n",
       "      <td>1</td>\n",
       "      <td>0</td>\n",
       "      <td>0</td>\n",
       "      <td>1</td>\n",
       "      <td>0</td>\n",
       "      <td>0</td>\n",
       "      <td>0</td>\n",
       "      <td>1</td>\n",
       "      <td>0</td>\n",
       "      <td>...</td>\n",
       "      <td>0.0</td>\n",
       "      <td>-4.699231</td>\n",
       "      <td>-1.056604</td>\n",
       "      <td>-0.473452</td>\n",
       "      <td>-1.0</td>\n",
       "      <td>-0.2500</td>\n",
       "      <td>-0.731707</td>\n",
       "      <td>1.037736</td>\n",
       "      <td>-1.555556</td>\n",
       "      <td>1</td>\n",
       "    </tr>\n",
       "    <tr>\n",
       "      <th>2</th>\n",
       "      <td>0</td>\n",
       "      <td>0</td>\n",
       "      <td>0</td>\n",
       "      <td>1</td>\n",
       "      <td>0</td>\n",
       "      <td>1</td>\n",
       "      <td>0</td>\n",
       "      <td>0</td>\n",
       "      <td>0</td>\n",
       "      <td>0</td>\n",
       "      <td>...</td>\n",
       "      <td>0.0</td>\n",
       "      <td>0.000000</td>\n",
       "      <td>0.000000</td>\n",
       "      <td>0.000000</td>\n",
       "      <td>0.0</td>\n",
       "      <td>-0.4375</td>\n",
       "      <td>-0.780488</td>\n",
       "      <td>-0.452830</td>\n",
       "      <td>-0.444444</td>\n",
       "      <td>1</td>\n",
       "    </tr>\n",
       "    <tr>\n",
       "      <th>3</th>\n",
       "      <td>0</td>\n",
       "      <td>0</td>\n",
       "      <td>0</td>\n",
       "      <td>0</td>\n",
       "      <td>0</td>\n",
       "      <td>0</td>\n",
       "      <td>0</td>\n",
       "      <td>0</td>\n",
       "      <td>0</td>\n",
       "      <td>0</td>\n",
       "      <td>...</td>\n",
       "      <td>1.0</td>\n",
       "      <td>-0.013778</td>\n",
       "      <td>-0.773585</td>\n",
       "      <td>0.894816</td>\n",
       "      <td>1.0</td>\n",
       "      <td>-0.3125</td>\n",
       "      <td>0.121951</td>\n",
       "      <td>0.283019</td>\n",
       "      <td>0.000000</td>\n",
       "      <td>0</td>\n",
       "    </tr>\n",
       "    <tr>\n",
       "      <th>4</th>\n",
       "      <td>0</td>\n",
       "      <td>0</td>\n",
       "      <td>0</td>\n",
       "      <td>0</td>\n",
       "      <td>0</td>\n",
       "      <td>0</td>\n",
       "      <td>1</td>\n",
       "      <td>0</td>\n",
       "      <td>0</td>\n",
       "      <td>1</td>\n",
       "      <td>...</td>\n",
       "      <td>0.0</td>\n",
       "      <td>-0.417206</td>\n",
       "      <td>0.000000</td>\n",
       "      <td>-0.180067</td>\n",
       "      <td>-1.0</td>\n",
       "      <td>0.0000</td>\n",
       "      <td>0.000000</td>\n",
       "      <td>-0.094340</td>\n",
       "      <td>-0.666667</td>\n",
       "      <td>1</td>\n",
       "    </tr>\n",
       "  </tbody>\n",
       "</table>\n",
       "<p>5 rows × 30 columns</p>\n",
       "</div>"
      ],
      "text/plain": [
       "   C6  C1_2  C1_3  C2_0  C2_3  C3_0  C4_1  C4_41  C5_1  C5_4  ...  N15  \\\n",
       "0   0     0     0     0     0     0     1      0     1     0  ...  0.0   \n",
       "1   0     1     0     0     1     0     0      0     1     0  ...  0.0   \n",
       "2   0     0     0     1     0     1     0      0     0     0  ...  0.0   \n",
       "3   0     0     0     0     0     0     0      0     0     0  ...  1.0   \n",
       "4   0     0     0     0     0     0     1      0     0     1  ...  0.0   \n",
       "\n",
       "        N17       N18       N19  N22     N23       N24       N33       N35  \\\n",
       "0  0.026969  0.735849 -1.075934 -1.0  0.6875 -0.317073 -0.471698 -0.333333   \n",
       "1 -4.699231 -1.056604 -0.473452 -1.0 -0.2500 -0.731707  1.037736 -1.555556   \n",
       "2  0.000000  0.000000  0.000000  0.0 -0.4375 -0.780488 -0.452830 -0.444444   \n",
       "3 -0.013778 -0.773585  0.894816  1.0 -0.3125  0.121951  0.283019  0.000000   \n",
       "4 -0.417206  0.000000 -0.180067 -1.0  0.0000  0.000000 -0.094340 -0.666667   \n",
       "\n",
       "   Dependent_Variable  \n",
       "0                   0  \n",
       "1                   1  \n",
       "2                   1  \n",
       "3                   0  \n",
       "4                   1  \n",
       "\n",
       "[5 rows x 30 columns]"
      ]
     },
     "execution_count": 31,
     "metadata": {},
     "output_type": "execute_result"
    }
   ],
   "source": [
    "# updated data\n",
    "data.head()"
   ]
  },
  {
   "cell_type": "code",
   "execution_count": 32,
   "metadata": {},
   "outputs": [
    {
     "data": {
      "text/plain": [
       "(28050, 30)"
      ]
     },
     "execution_count": 32,
     "metadata": {},
     "output_type": "execute_result"
    }
   ],
   "source": [
    "data.shape"
   ]
  },
  {
   "cell_type": "code",
   "execution_count": 33,
   "metadata": {},
   "outputs": [],
   "source": [
    "# saving updated data\n",
    "data.to_csv(\"../pipeline_data/6_train_feature_selected.csv\", index=None)"
   ]
  }
 ],
 "metadata": {
  "kernelspec": {
   "display_name": "deep_learning",
   "language": "python",
   "name": "python3"
  },
  "language_info": {
   "codemirror_mode": {
    "name": "ipython",
    "version": 3
   },
   "file_extension": ".py",
   "mimetype": "text/x-python",
   "name": "python",
   "nbconvert_exporter": "python",
   "pygments_lexer": "ipython3",
   "version": "3.9.16"
  },
  "orig_nbformat": 4
 },
 "nbformat": 4,
 "nbformat_minor": 2
}
